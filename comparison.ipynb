{
 "cells": [
  {
   "cell_type": "code",
   "execution_count": 9,
   "metadata": {},
   "outputs": [
    {
     "name": "stderr",
     "output_type": "stream",
     "text": [
      "Auto-assigning NUTS sampler...\n",
      "Initializing NUTS using jitter+adapt_diag...\n",
      "Multiprocess sampling (4 chains in 4 jobs)\n",
      "NUTS: [sigma, beta, alpha]\n",
      "Sampling 4 chains: 100%|██████████| 133072/133072 [00:27<00:00, 4780.36draws/s]\n"
     ]
    },
    {
     "name": "stdout",
     "output_type": "stream",
     "text": [
      "28.79102325439453\n",
      "0.821631669998169\n",
      "\n"
     ]
    },
    {
     "name": "stderr",
     "output_type": "stream",
     "text": [
      "Auto-assigning NUTS sampler...\n",
      "Initializing NUTS using jitter+adapt_diag...\n",
      "Multiprocess sampling (4 chains in 4 jobs)\n",
      "NUTS: [sigma, beta, alpha]\n",
      "Sampling 4 chains: 100%|██████████| 133072/133072 [00:28<00:00, 4614.54draws/s]\n"
     ]
    },
    {
     "name": "stdout",
     "output_type": "stream",
     "text": [
      "29.6191143989563\n",
      "0.8334047794342041\n",
      "\n"
     ]
    },
    {
     "name": "stderr",
     "output_type": "stream",
     "text": [
      "Auto-assigning NUTS sampler...\n",
      "Initializing NUTS using jitter+adapt_diag...\n",
      "Multiprocess sampling (4 chains in 4 jobs)\n",
      "NUTS: [sigma, beta, alpha]\n",
      "Sampling 4 chains: 100%|██████████| 133072/133072 [00:33<00:00, 3938.18draws/s]\n"
     ]
    },
    {
     "name": "stdout",
     "output_type": "stream",
     "text": [
      "34.706321239471436\n",
      "0.8226613998413086\n",
      "\n"
     ]
    },
    {
     "name": "stderr",
     "output_type": "stream",
     "text": [
      "Auto-assigning NUTS sampler...\n",
      "Initializing NUTS using jitter+adapt_diag...\n",
      "Multiprocess sampling (4 chains in 4 jobs)\n",
      "NUTS: [sigma, beta, alpha]\n",
      "Sampling 4 chains: 100%|██████████| 133072/133072 [00:35<00:00, 3700.57draws/s]\n"
     ]
    },
    {
     "name": "stdout",
     "output_type": "stream",
     "text": [
      "36.86930274963379\n",
      "1.6487398147583008\n",
      "\n"
     ]
    },
    {
     "name": "stderr",
     "output_type": "stream",
     "text": [
      "Auto-assigning NUTS sampler...\n",
      "Initializing NUTS using jitter+adapt_diag...\n",
      "Multiprocess sampling (4 chains in 4 jobs)\n",
      "NUTS: [sigma, beta, alpha]\n",
      "Sampling 4 chains: 100%|██████████| 133072/133072 [00:52<00:00, 2533.92draws/s]\n"
     ]
    },
    {
     "name": "stdout",
     "output_type": "stream",
     "text": [
      "53.307156562805176\n",
      "3.282313823699951\n",
      "\n"
     ]
    },
    {
     "name": "stderr",
     "output_type": "stream",
     "text": [
      "Auto-assigning NUTS sampler...\n",
      "Initializing NUTS using jitter+adapt_diag...\n",
      "Multiprocess sampling (4 chains in 4 jobs)\n",
      "NUTS: [sigma, beta, alpha]\n",
      "Sampling 4 chains: 100%|██████████| 133072/133072 [01:36<00:00, 1383.59draws/s]\n",
      "The acceptance probability does not match the target. It is 0.8834197868190837, but should be close to 0.8. Try to increase the number of tuning steps.\n"
     ]
    },
    {
     "name": "stdout",
     "output_type": "stream",
     "text": [
      "97.11396765708923\n",
      "6.601769685745239\n",
      "\n"
     ]
    },
    {
     "name": "stderr",
     "output_type": "stream",
     "text": [
      "Auto-assigning NUTS sampler...\n",
      "Initializing NUTS using jitter+adapt_diag...\n",
      "Multiprocess sampling (4 chains in 4 jobs)\n",
      "NUTS: [sigma, beta, alpha]\n",
      "Sampling 4 chains: 100%|██████████| 133072/133072 [02:18<00:00, 959.28draws/s] \n"
     ]
    },
    {
     "name": "stdout",
     "output_type": "stream",
     "text": [
      "139.64628982543945\n",
      "13.172434568405151\n",
      "\n"
     ]
    },
    {
     "name": "stderr",
     "output_type": "stream",
     "text": [
      "Auto-assigning NUTS sampler...\n",
      "Initializing NUTS using jitter+adapt_diag...\n",
      "Multiprocess sampling (4 chains in 4 jobs)\n",
      "NUTS: [sigma, beta, alpha]\n",
      "Sampling 4 chains: 100%|██████████| 133072/133072 [03:40<00:00, 602.98draws/s]\n"
     ]
    },
    {
     "name": "stdout",
     "output_type": "stream",
     "text": [
      "221.5100245475769\n",
      "26.339293479919434\n",
      "\n"
     ]
    },
    {
     "name": "stderr",
     "output_type": "stream",
     "text": [
      "Auto-assigning NUTS sampler...\n",
      "Initializing NUTS using jitter+adapt_diag...\n",
      "Multiprocess sampling (4 chains in 4 jobs)\n",
      "NUTS: [sigma, beta, alpha]\n",
      "Sampling 4 chains: 100%|██████████| 133072/133072 [10:05<00:00, 219.77draws/s]\n",
      "The acceptance probability does not match the target. It is 0.8796762031280897, but should be close to 0.8. Try to increase the number of tuning steps.\n",
      "The acceptance probability does not match the target. It is 0.9340345309054562, but should be close to 0.8. Try to increase the number of tuning steps.\n"
     ]
    },
    {
     "name": "stdout",
     "output_type": "stream",
     "text": [
      "606.489627122879\n",
      "52.34163045883179\n",
      "\n"
     ]
    }
   ],
   "source": [
    "import time\n",
    "import numpy as np\n",
    "import pymc3 as pm\n",
    "from pmcmc import pMCMC_Bench\n",
    "\n",
    "\n",
    "# True parameter values\n",
    "alpha0, sigma0 = 1, 1\n",
    "beta0 = [1, 2.5]\n",
    "block_size = 2**9\n",
    "n_iter = 2**15\n",
    "\n",
    "for n_samples in 2**np.arange(9,18):\n",
    "\n",
    "\n",
    "    # Predictor variable\n",
    "    X1 = np.random.randn(n_samples)\n",
    "    X2 = np.random.randn(n_samples) * 0.2\n",
    "\n",
    "    # Simulate outcome variable\n",
    "    Y = alpha0 + beta0[0]*X1 + beta0[1]*X2 + np.random.randn(n_samples)*sigma0\n",
    "\n",
    "    #Initializing model\n",
    "    basic_model = pm.Model()\n",
    "\n",
    "    with basic_model:\n",
    "\n",
    "        # Priors for unknown model parameters\n",
    "        alpha = pm.Normal('alpha', mu=0, sigma=10)\n",
    "        beta = pm.Normal('beta', mu=0, sigma=10, shape=2)\n",
    "        sigma = pm.HalfNormal('sigma', sigma=1)\n",
    "\n",
    "        # Expected value of outcome\n",
    "        mu = alpha + beta[0]*X1 + beta[1]*X2\n",
    "\n",
    "        # Likelihood (sampling distribution) of observations\n",
    "        Y_obs = pm.Normal('Y_obs', mu=mu, sigma=sigma, observed=Y)\n",
    "    \n",
    "        start = time.time()\n",
    "        trace = pm.sample(n_iter) \n",
    "        end = time.time()\n",
    "        print(end-start)\n",
    "        \n",
    "\n",
    "    X = np.array([X1,X2]).T\n",
    "    pmh = pMCMC_Bench(X,Y,block_size,n_iter)\n",
    "\n",
    "    start = time.time()\n",
    "    output = pmh.launch()\n",
    "    end = time.time()\n",
    "    print(end-start)\n",
    "    print()"
   ]
  },
  {
   "cell_type": "code",
   "execution_count": null,
   "metadata": {},
   "outputs": [],
   "source": []
  }
 ],
 "metadata": {
  "kernelspec": {
   "display_name": "Python 3",
   "language": "python",
   "name": "python3"
  },
  "language_info": {
   "codemirror_mode": {
    "name": "ipython",
    "version": 3
   },
   "file_extension": ".py",
   "mimetype": "text/x-python",
   "name": "python",
   "nbconvert_exporter": "python",
   "pygments_lexer": "ipython3",
   "version": "3.7.3"
  }
 },
 "nbformat": 4,
 "nbformat_minor": 4
}
